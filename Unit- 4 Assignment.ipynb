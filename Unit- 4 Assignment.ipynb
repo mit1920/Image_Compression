{
 "cells": [
  {
   "cell_type": "markdown",
   "id": "07daf496",
   "metadata": {},
   "source": [
    "# Part B : Coding\n",
    "\n",
    "Name: Mit Thaker\n",
    "\n",
    "\n",
    "Semester-7\n",
    "\n",
    "Roll No.: \n",
    "Course : Msc AIML"
   ]
  },
  {
   "cell_type": "markdown",
   "id": "4358e871",
   "metadata": {},
   "source": [
    "## 1. Implement functions for encoding and decoding an image using the following methods:\n",
    " \n",
    " A. Transform Coding (using DCT for forward transform)\n",
    " \n",
    " B. Huffman Encoding\n",
    " \n",
    " C. LZWEncoding\n",
    " \n",
    " D. Run-Length Encoding\n",
    " \n",
    " E. Arithmetic Coding\n",
    " \n",
    " For each method, display the Compression Ratio and calculate the Root Mean Square\n",
    " Error (RMSE) between the original and reconstructed image to quantify any loss of\n",
    " information."
   ]
  },
  {
   "cell_type": "code",
   "execution_count": 1,
   "id": "47f129d9",
   "metadata": {},
   "outputs": [],
   "source": [
    "import numpy as np\n",
    "import cv2\n",
    "from scipy.fftpack import dct, idct\n",
    "from skimage.metrics import mean_squared_error\n",
    "import heapq\n",
    "import collections\n",
    "import itertools\n",
    "import math\n"
   ]
  },
  {
   "cell_type": "code",
   "execution_count": 2,
   "id": "116d30c7",
   "metadata": {},
   "outputs": [],
   "source": [
    "# RMSE Calculate\n",
    "\n",
    "def calculate_rmse(original, reconstructed):\n",
    "    return np.sqrt(mean_squared_error(original, reconstructed))\n"
   ]
  },
  {
   "cell_type": "markdown",
   "id": "46b21b6b",
   "metadata": {},
   "source": [
    "# A. Transform Coding (Using DCT)"
   ]
  },
  {
   "cell_type": "code",
   "execution_count": 3,
   "id": "753ab5d7",
   "metadata": {},
   "outputs": [],
   "source": [
    "#Forward DCT Transform and Quantization:\n",
    "def dct_encode(image, block_size=8):\n",
    "    h, w = image.shape\n",
    "    dct_transformed = np.zeros_like(image, dtype=float)\n",
    "    for i in range(0, h, block_size):\n",
    "        for j in range(0, w, block_size):\n",
    "            block = image[i:i+block_size, j:j+block_size]\n",
    "            dct_transformed[i:i+block_size, j:j+block_size] = dct(dct(block, axis=0, norm='ortho'), axis=1, norm='ortho')\n",
    "    return dct_transformed\n"
   ]
  },
  {
   "cell_type": "code",
   "execution_count": 4,
   "id": "cc6681d1",
   "metadata": {},
   "outputs": [],
   "source": [
    "#Inverse DCT Transform:\n",
    "def dct_decode(dct_transformed, block_size=8):\n",
    "    h, w = dct_transformed.shape\n",
    "    reconstructed = np.zeros_like(dct_transformed)\n",
    "    for i in range(0, h, block_size):\n",
    "        for j in range(0, w, block_size):\n",
    "            block = dct_transformed[i:i+block_size, j:j+block_size]\n",
    "            reconstructed[i:i+block_size, j:j+block_size] = idct(idct(block, axis=0, norm='ortho'), axis=1, norm='ortho')\n",
    "    return np.clip(reconstructed, 0, 255).astype(np.uint8)\n"
   ]
  },
  {
   "cell_type": "markdown",
   "id": "57d4f841",
   "metadata": {},
   "source": [
    "# B. Huffman Encoding"
   ]
  },
  {
   "cell_type": "code",
   "execution_count": 5,
   "id": "6e1ebc9c",
   "metadata": {},
   "outputs": [],
   "source": [
    "# 1. Encoding:\n",
    "\n",
    "def huffman_encode(image):\n",
    "    frequency = collections.Counter(image.flatten())\n",
    "    heap = [[weight, [symbol, \"\"]] for symbol, weight in frequency.items()]\n",
    "    heapq.heapify(heap)\n",
    "    while len(heap) > 1:\n",
    "        lo = heapq.heappop(heap)\n",
    "        hi = heapq.heappop(heap)\n",
    "        for pair in lo[1:]:\n",
    "            pair[1] = '0' + pair[1]\n",
    "        for pair in hi[1:]:\n",
    "            pair[1] = '1' + pair[1]\n",
    "        heapq.heappush(heap, [lo[0] + hi[0]] + lo[1:] + hi[1:])\n",
    "    huff_dict = sorted(heapq.heappop(heap)[1:], key=lambda p: (len(p[-1]), p))\n",
    "    return huff_dict  # return the huffman table for decoding\n"
   ]
  },
  {
   "cell_type": "code",
   "execution_count": 6,
   "id": "8aa4d260",
   "metadata": {},
   "outputs": [],
   "source": [
    "# 2. Decoding\n",
    "\n",
    "def huffman_decode(encoded_image, huff_dict):\n",
    "    decoded_image = []\n",
    "    inverse_dict = {code: symbol for symbol, code in huff_dict}\n",
    "    code = \"\"\n",
    "    for bit in encoded_image:\n",
    "        code += bit\n",
    "        if code in inverse_dict:\n",
    "            decoded_image.append(inverse_dict[code])\n",
    "            code = \"\"\n",
    "    return np.array(decoded_image).reshape(image.shape)\n"
   ]
  },
  {
   "cell_type": "markdown",
   "id": "e97248ef",
   "metadata": {},
   "source": [
    "# C. LZW Encoding"
   ]
  },
  {
   "cell_type": "code",
   "execution_count": 7,
   "id": "e2d70237",
   "metadata": {},
   "outputs": [],
   "source": [
    "# 1. Encoding\n",
    "def lzw_encode(image):\n",
    "    dictionary = {bytes([i]): i for i in range(256)}\n",
    "    p = bytes()\n",
    "    code = []\n",
    "    for c in image.flatten():\n",
    "        pc = p + bytes([c])\n",
    "        if pc in dictionary:\n",
    "            p = pc\n",
    "        else:\n",
    "            code.append(dictionary[p])\n",
    "            dictionary[pc] = len(dictionary)\n",
    "            p = bytes([c])\n",
    "    if p:\n",
    "        code.append(dictionary[p])\n",
    "    return code\n"
   ]
  },
  {
   "cell_type": "code",
   "execution_count": 8,
   "id": "36e73dae",
   "metadata": {},
   "outputs": [],
   "source": [
    "# 2. Decoding\n",
    "\n",
    "\n",
    "def lzw_decode(code):\n",
    "    dictionary = {i: bytes([i]) for i in range(256)}\n",
    "    p = bytes([code.pop(0)])\n",
    "    decoded_image = [p]\n",
    "    for k in code:\n",
    "        entry = dictionary[k] if k in dictionary else p + p[:1]\n",
    "        decoded_image.append(entry)\n",
    "        dictionary[len(dictionary)] = p + entry[:1]\n",
    "        p = entry\n",
    "    return np.array(b''.join(decoded_image)).reshape(image.shape)\n"
   ]
  },
  {
   "cell_type": "markdown",
   "id": "0ba7ce6a",
   "metadata": {},
   "source": [
    "# D. Run-Length Encoding"
   ]
  },
  {
   "cell_type": "code",
   "execution_count": 9,
   "id": "2b62ef21",
   "metadata": {},
   "outputs": [],
   "source": [
    "# 1. Encoding:\n",
    "def run_length_encode(image):\n",
    "    flattened = image.flatten()\n",
    "    encoded = []\n",
    "    count = 1\n",
    "    for i in range(1, len(flattened)):\n",
    "        if flattened[i] == flattened[i-1]:\n",
    "            count += 1\n",
    "        else:\n",
    "            encoded.append((flattened[i-1], count))\n",
    "            count = 1\n",
    "    encoded.append((flattened[-1], count))  # Add last element\n",
    "    return encoded\n"
   ]
  },
  {
   "cell_type": "code",
   "execution_count": 10,
   "id": "7ca94385",
   "metadata": {},
   "outputs": [],
   "source": [
    "# 2.Decoding:\n",
    "def run_length_decode(encoded, shape):\n",
    "    decoded = []\n",
    "    for value, count in encoded:\n",
    "        decoded.extend([value] * count)\n",
    "    return np.array(decoded).reshape(shape)\n",
    "\n"
   ]
  },
  {
   "cell_type": "markdown",
   "id": "ed7440af",
   "metadata": {},
   "source": [
    "# E. Arithmetic Coding\n",
    "Encoding and Decoding: For arithmetic coding, you can use an external library like python-arithmetic-coding for efficient implementation since arithmetic coding can be complex to implement from scratch.\n"
   ]
  },
  {
   "cell_type": "code",
   "execution_count": 11,
   "id": "fa0c045c",
   "metadata": {},
   "outputs": [],
   "source": [
    "def evaluate_compression(original, compressed):\n",
    "    original_size = original.size * original.itemsize\n",
    "    compressed_size = len(compressed) if isinstance(compressed, list) else compressed.nbytes\n",
    "    compression_ratio = original_size / compressed_size\n",
    "    rmse = calculate_rmse(original, compressed)\n",
    "    print(f\"Compression Ratio: {compression_ratio:.2f}\")\n",
    "    print(f\"RMSE: {rmse:.2f}\")\n",
    "    return compression_ratio, rmse\n"
   ]
  },
  {
   "cell_type": "code",
   "execution_count": 12,
   "id": "89d4ce29",
   "metadata": {},
   "outputs": [
    {
     "name": "stdout",
     "output_type": "stream",
     "text": [
      "Compression Ratio: 1.00\n",
      "RMSE: 0.15\n"
     ]
    },
    {
     "data": {
      "text/plain": [
       "(1.0, 0.15463709023211236)"
      ]
     },
     "execution_count": 12,
     "metadata": {},
     "output_type": "execute_result"
    }
   ],
   "source": [
    "# Example\n",
    "# Load a grayscale image\n",
    "image = cv2.imread('OIP.jpeg', cv2.IMREAD_GRAYSCALE)\n",
    "\n",
    "# DCT example\n",
    "dct_transformed = dct_encode(image)\n",
    "reconstructed_dct = dct_decode(dct_transformed)\n",
    "evaluate_compression(image, reconstructed_dct)\n"
   ]
  },
  {
   "cell_type": "code",
   "execution_count": null,
   "id": "395f4295",
   "metadata": {},
   "outputs": [],
   "source": []
  }
 ],
 "metadata": {
  "kernelspec": {
   "display_name": "Python 3 (ipykernel)",
   "language": "python",
   "name": "python3"
  },
  "language_info": {
   "codemirror_mode": {
    "name": "ipython",
    "version": 3
   },
   "file_extension": ".py",
   "mimetype": "text/x-python",
   "name": "python",
   "nbconvert_exporter": "python",
   "pygments_lexer": "ipython3",
   "version": "3.9.18"
  }
 },
 "nbformat": 4,
 "nbformat_minor": 5
}
